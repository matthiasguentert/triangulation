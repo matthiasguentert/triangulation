{
 "cells": [
  {
   "cell_type": "markdown",
   "metadata": {},
   "source": [
    "## Proof of concept\n",
    "\n",
    "Triangulation of an image/font"
   ]
  },
  {
   "cell_type": "code",
   "execution_count": 17,
   "metadata": {},
   "outputs": [
    {
     "name": "stdout",
     "output_type": "stream",
     "text": [
      "[[255 255 255 ... 255 255 255]\n",
      " [255 255 255 ... 255 255 255]\n",
      " [255 255 255 ... 255 255 255]\n",
      " ...\n",
      " [255 255 255 ... 255 255 255]\n",
      " [255 255 255 ... 255 255 255]\n",
      " [255 255 255 ... 255 255 255]]\n",
      "Number of contours found: 4\n",
      "Contour shape: (244, 215, 3)\n",
      "Number triangles: 86\n"
     ]
    },
    {
     "data": {
      "text/plain": [
       "<matplotlib.image.AxesImage at 0x208a6df9bc8>"
      ]
     },
     "execution_count": 17,
     "metadata": {},
     "output_type": "execute_result"
    },
    {
     "data": {
      "image/png": "[encoded data removed]",
      "text/plain": [
       "<Figure size 432x288 with 1 Axes>"
      ]
     },
     "metadata": {
      "needs_background": "light"
     },
     "output_type": "display_data"
    }
   ],
   "source": [
    "import cv2\n",
    "import numpy as np \n",
    "from matplotlib import pyplot as plt\n",
    "\n",
    "# ((x1, y1),(x2, y2),(x3, y3))\n",
    "# C is (x1+x2+x3)/3, (y1+y2+y3)/3.\n",
    "def calc_centroid(triangle):\n",
    "    # x1 + x2 + x3    \n",
    "    cx = (triangle[0] + triangle[2] + triangle[4]) / 3\n",
    "    # y1 + y2 + y3 \n",
    "    cy = (triangle[1] + triangle[3] + triangle[5]) / 3\n",
    "    \n",
    "    return (cx, cy)\n",
    "\n",
    "def draw_triangles(img, contour):\n",
    "    # returns triangles each having 6 points or 3 vectors (x,y)\n",
    "    triangles = subdiv.getTriangleList() \n",
    "    print(\"Number triangles:\", len(triangles))\n",
    "\n",
    "    for t in triangles:\n",
    "        p1 = (t[0], t[1])\n",
    "        p2 = (t[2], t[3])\n",
    "        p3 = (t[4], t[5])\n",
    "        \n",
    "        centroid = calc_centroid(t)\n",
    "        retval = cv2.pointPolygonTest(contour, centroid, False)\n",
    "        \n",
    "        if (retval >= 0):\n",
    "            cv2.circle(img, (int(centroid[0]), int(centroid[1])), 2, (0, 255, 255))      \n",
    "            cv2.line(img, p1, p2, (255,0,0))\n",
    "            cv2.line(img, p2, p3, (255,0,0))\n",
    "            cv2.line(img, p3, p1, (255,0,0))\n",
    "\n",
    "# numpy.ndarray - (214, 223, 3)\n",
    "img_orig = cv2.imread(\"C:\\\\Temp\\\\b1.jpg\")\n",
    "img = img_orig.copy()\n",
    "\n",
    "# numpy.ndarray - (214, 223)\n",
    "img_gray = cv2.cvtColor(img_orig, cv2.COLOR_BGR2GRAY)\n",
    "print(img_gray)\n",
    "\n",
    "# float, numpy.ndarray - (214, 223)\n",
    "retval, img_bin = cv2.threshold(img_gray, 100, 255, cv2.THRESH_BINARY)\n",
    "#retval, img_bin  = cv2.threshold(img_gray, 0, 255, cv2.THRESH_BINARY + cv2.THRESH_OTSU)\n",
    "#img_bin = cv2.adaptiveThreshold(img_gray, 255, cv2.ADAPTIVE_THRESH_MEAN_C, cv2.THRESH_BINARY, 11, 2)\n",
    "\n",
    "# Worst result, produces too many points => 1215 triangles\n",
    "#contours, hierarchy = cv2.findContours(img_bin, cv2.RETR_TREE, cv2.CHAIN_APPROX_NONE)\n",
    "\n",
    "# Better but still too many points => 641 triangles\n",
    "#contours, hierarchy = cv2.findContours(img_bin, cv2.RETR_TREE, cv2.CHAIN_APPROX_SIMPLE)\n",
    "\n",
    "# Better too, but still many points => 295 triangles\n",
    "#contours, hierarchy = cv2.findContours(img_bin, cv2.RETR_TREE, cv2.CHAIN_APPROX_TC89_L1)\n",
    "\n",
    "# Performs best => only 65 triangles!\n",
    "contours, hierarchy = cv2.findContours(img_bin, cv2.RETR_TREE, cv2.CHAIN_APPROX_TC89_KCOS)\n",
    "print(\"Number of contours found:\", len(contours))\n",
    "#print(contours[1][0])\n",
    "\n",
    "img_contours = cv2.drawContours(img_orig, contours, 1, (0, 255, 0), 3)\n",
    "print(\"Contour shape:\", img_contours.shape)\n",
    "\n",
    "#plt.imshow(img_bin)\n",
    "#plt.imshow(img_contours)\n",
    "\n",
    "size = img_contours.shape\n",
    "rect = (0, 0, size[1], size[0])\n",
    "subdiv = cv2.Subdiv2D(rect)\n",
    "\n",
    "points = []\n",
    "for v in contours[1]:\n",
    "    points.append((v[0][0], v[0][1]))\n",
    "\n",
    "for p in points:\n",
    "    subdiv.insert(p)\n",
    "\n",
    "draw_triangles(img, contours[1])\n",
    "    \n",
    "plt.imshow(img)    "
   ]
  },
  {
   "cell_type": "markdown",
   "metadata": {},
   "source": [
    "# # Introducing freetype to the concept"
   ]
  },
  {
   "cell_type": "code",
   "execution_count": 82,
   "metadata": {},
   "outputs": [
    {
     "name": "stdout",
     "output_type": "stream",
     "text": [
      "Number of contours found: 3\n",
      "Number of triangles calculated: 414\n"
     ]
    },
    {
     "data": {
      "text/plain": [
       "<matplotlib.image.AxesImage at 0x208a9d35ec8>"
      ]
     },
     "execution_count": 82,
     "metadata": {},
     "output_type": "execute_result"
    },
    {
     "data": {
      "image/png": "[encoded data removed]",
      "text/plain": [
       "<Figure size 432x288 with 1 Axes>"
      ]
     },
     "metadata": {
      "needs_background": "light"
     },
     "output_type": "display_data"
    }
   ],
   "source": [
    "import cv2\n",
    "import numpy as np\n",
    "import freetype\n",
    "from matplotlib import pyplot as plt\n",
    "\n",
    "# ((x1, y1),(x2, y2),(x3, y3))\n",
    "# C is (x1+x2+x3)/3, (y1+y2+y3)/3.\n",
    "def calc_centroid(triangle):\n",
    "    # x1 + x2 + x3    \n",
    "    cx = (triangle[0] + triangle[2] + triangle[4]) / 3\n",
    "    # y1 + y2 + y3 \n",
    "    cy = (triangle[1] + triangle[3] + triangle[5]) / 3\n",
    "    \n",
    "    return (cx, cy)\n",
    "\n",
    "face = freetype.Face(\"C:\\\\Windows\\\\Fonts\\\\Arial.ttf\")\n",
    "face.set_char_size(48*128)\n",
    "face.load_char('A')\n",
    "bitmap = face.glyph.bitmap\n",
    "\n",
    "# Convert bitmap to numpy array\n",
    "letter = np.array(bitmap.buffer, dtype=np.uint8).reshape(bitmap.rows, bitmap.width)\n",
    "\n",
    "# Add padding around letter, otherwise we won't find the correct contour\n",
    "letter = cv2.copyMakeBorder(letter, 10, 10, 10, 10, cv2.BORDER_CONSTANT, None, 0)\n",
    "\n",
    "# Invert image \n",
    "inverted = (255-letter)\n",
    "#plt.imshow(inverted)\n",
    "\n",
    "# Convert to binary image, values are either 0 or 255\n",
    "retval, binary = cv2.threshold(inverted, 100, 255, cv2.THRESH_BINARY)\n",
    "#plt.imshow(binary)\n",
    "\n",
    "# cv2.CHAIN_APPROX_NONE results in many triangles, which may be bad for performance\n",
    "# but this provides the most triangle-representation\n",
    "contours, hierarchy = cv2.findContours(binary, cv2.RETR_TREE, cv2.CHAIN_APPROX_NONE)\n",
    "print(\"Number of contours found:\", len(contours))\n",
    "\n",
    "size = letter.shape\n",
    "rect = (0, 0, size[1], size[0])\n",
    "subdiv = cv2.Subdiv2D(rect)\n",
    "\n",
    "c_index = 1\n",
    "\n",
    "for point in contours[c_index]:\n",
    "    subdiv.insert((point[0][0], point[0][1]))\n",
    "    #print(point[0][0], point[0][1])\n",
    "    \n",
    "triangles = subdiv.getTriangleList()\n",
    "print(\"Number of triangles calculated:\", len(triangles))\n",
    "\n",
    "# Convert letter back to BGR\n",
    "letter = cv2.cvtColor(letter, cv2.COLOR_GRAY2BGR)\n",
    "\n",
    "for triangle in triangles:\n",
    "    p1 = (triangle[0], triangle[1])\n",
    "    p2 = (triangle[2], triangle[3])\n",
    "    p3 = (triangle[4], triangle[5])\n",
    "   \n",
    "    centroid = calc_centroid(triangle)\n",
    "\n",
    "    # Test if triangle is part of polygon\n",
    "    retval = cv2.pointPolygonTest(contours[c_index], centroid, False)\n",
    "        \n",
    "    if (retval >= 0):\n",
    "        #cv2.circle(img, (int(centroid[0]), int(centroid[1])), 2, (0, 255, 255))      \n",
    "        cv2.line(letter, p1, p2, (255,0,0))\n",
    "        cv2.line(letter, p2, p3, (255,0,0))\n",
    "        cv2.line(letter, p3, p1, (255,0,0))    \n",
    "\n",
    "\n",
    "plt.imshow(letter)        "
   ]
  },
  {
   "cell_type": "code",
   "execution_count": null,
   "metadata": {},
   "outputs": [],
   "source": []
  }
 ],
 "metadata": {
  "kernelspec": {
   "display_name": "Python 3",
   "language": "python",
   "name": "python3"
  },
  "language_info": {
   "codemirror_mode": {
    "name": "ipython",
    "version": 3
   },
   "file_extension": ".py",
   "mimetype": "text/x-python",
   "name": "python",
   "nbconvert_exporter": "python",
   "pygments_lexer": "ipython3",
   "version": "3.7.6"
  }
 },
 "nbformat": 4,
 "nbformat_minor": 4
}
