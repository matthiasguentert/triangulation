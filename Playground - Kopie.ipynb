{
 "cells": [
  {
   "cell_type": "markdown",
   "metadata": {},
   "source": []
  },
  {
   "cell_type": "code",
   "execution_count": 143,
   "metadata": {},
   "outputs": [
    {
     "name": "stdout",
     "output_type": "stream",
     "text": [
      "Number of contours found: 4\n",
      "Contour shape: (244, 215, 3)\n",
      "Number triangles: 86\n"
     ]
    },
    {
     "data": {
      "text/plain": [
       "<matplotlib.image.AxesImage at 0x15348147488>"
      ]
     },
     "execution_count": 143,
     "metadata": {},
     "output_type": "execute_result"
    },
    {
     "data": {
      "image/png": "[encoded data removed]",
      "text/plain": [
       "<Figure size 432x288 with 1 Axes>"
      ]
     },
     "metadata": {
      "needs_background": "light"
     },
     "output_type": "display_data"
    }
   ],
   "source": [
    "import cv2\n",
    "import numpy as np \n",
    "from matplotlib import pyplot as plt\n",
    "\n",
    "# ((x1, y1),(x2, y2),(x3, y3))\n",
    "# C is (x1+x2+x3)/3, (y1+y2+y3)/3.\n",
    "def calc_centroid(triangle):\n",
    "    x1 = triangle[0]\n",
    "    y1 = triangle[1]\n",
    "    \n",
    "    x2 = triangle[2]\n",
    "    y2 = triangle[3]\n",
    "    \n",
    "    x3 = triangle[4]\n",
    "    y3 = triangle[5]\n",
    "    \n",
    "    cx = (x1+x2+x3)/3\n",
    "    cy = (y1+y2+y3)/3\n",
    "    \n",
    "    return (cx, cy)\n",
    "\n",
    "def draw_triangles(img, contour):\n",
    "    # returns triangles each having 6 points or 3 vectors (x,y)\n",
    "    triangles = subdiv.getTriangleList()   \n",
    "    print(\"Number triangles:\", len(triangles))\n",
    "\n",
    "    for t in triangles:\n",
    "        p1 = (t[0], t[1])\n",
    "        p2 = (t[2], t[3])\n",
    "        p3 = (t[4], t[5])\n",
    "        \n",
    "        centroid = calc_centroid(t)\n",
    "        retval = cv2.pointPolygonTest(contour, centroid, False)\n",
    "        \n",
    "        if (retval >= 0):\n",
    "            cv2.circle(img, (int(centroid[0]), int(centroid[1])), 2, (0, 255, 255))      \n",
    "            cv2.line(img, p1, p2, (255,0,0))\n",
    "            cv2.line(img, p2, p3, (255,0,0))\n",
    "            cv2.line(img, p3, p1, (255,0,0))\n",
    "\n",
    "# numpy.ndarray - (214, 223, 3)\n",
    "img_orig = cv2.imread(\"C:\\\\Temp\\\\b1.jpg\")\n",
    "img = img_orig.copy()\n",
    "\n",
    "# numpy.ndarray - (214, 223)\n",
    "img_gray = cv2.cvtColor(img_orig, cv2.COLOR_BGR2GRAY)\n",
    "\n",
    "# float, numpy.ndarray - (214, 223)\n",
    "retval, img_bin = cv2.threshold(img_gray, 100, 255, cv2.THRESH_BINARY)\n",
    "#retval, img_bin  = cv2.threshold(img_gray, 0, 255, cv2.THRESH_BINARY + cv2.THRESH_OTSU)\n",
    "#img_bin = cv2.adaptiveThreshold(img_gray, 255, cv2.ADAPTIVE_THRESH_MEAN_C, cv2.THRESH_BINARY, 11, 2)\n",
    "\n",
    "# Worst result, produces too many points => 1215 triangles\n",
    "#contours, hierarchy = cv2.findContours(img_bin, cv2.RETR_TREE, cv2.CHAIN_APPROX_NONE)\n",
    "\n",
    "# Better but still too many points => 641 triangles\n",
    "#contours, hierarchy = cv2.findContours(img_bin, cv2.RETR_TREE, cv2.CHAIN_APPROX_SIMPLE)\n",
    "\n",
    "# Better too, but still many points => 295 triangles\n",
    "#contours, hierarchy = cv2.findContours(img_bin, cv2.RETR_TREE, cv2.CHAIN_APPROX_TC89_L1)\n",
    "\n",
    "# Performs best => only 65 triangles!\n",
    "contours, hierarchy = cv2.findContours(img_bin, cv2.RETR_TREE, cv2.CHAIN_APPROX_TC89_KCOS)\n",
    "print(\"Number of contours found:\", len(contours))\n",
    "#print(contours[1][0])\n",
    "\n",
    "img_contours = cv2.drawContours(img_orig, contours, 1, (0, 255, 0), 3)\n",
    "print(\"Contour shape:\", img_contours.shape)\n",
    "\n",
    "#plt.imshow(img_bin)\n",
    "#plt.imshow(img_contours)\n",
    "\n",
    "size = img_contours.shape\n",
    "rect = (0, 0, size[1], size[0])\n",
    "subdiv = cv2.Subdiv2D(rect)\n",
    "\n",
    "points = []\n",
    "for v in contours[1]:\n",
    "    points.append((v[0][0], v[0][1]))\n",
    "\n",
    "for p in points:\n",
    "    subdiv.insert(p)\n",
    "\n",
    "draw_triangles(img, contours[1])\n",
    "    \n",
    "plt.imshow(img)    "
   ]
  },
  {
   "cell_type": "markdown",
   "metadata": {},
   "source": [
    "Introducing freetype to the concept"
   ]
  },
  {
   "cell_type": "code",
   "execution_count": 1,
   "metadata": {},
   "outputs": [
    {
     "ename": "AttributeError",
     "evalue": "module 'freetype' has no attribute 'Face'",
     "output_type": "error",
     "traceback": [
      "\u001b[1;31m---------------------------------------------------------------------------\u001b[0m",
      "\u001b[1;31mAttributeError\u001b[0m                            Traceback (most recent call last)",
      "\u001b[1;32m<ipython-input-1-4c7198654546>\u001b[0m in \u001b[0;36m<module>\u001b[1;34m\u001b[0m\n\u001b[0;32m      1\u001b[0m \u001b[1;32mimport\u001b[0m \u001b[0mcv2\u001b[0m\u001b[1;33m\u001b[0m\u001b[1;33m\u001b[0m\u001b[0m\n\u001b[0;32m      2\u001b[0m \u001b[1;32mimport\u001b[0m \u001b[0mnumpy\u001b[0m \u001b[1;32mas\u001b[0m \u001b[0mnp\u001b[0m\u001b[1;33m\u001b[0m\u001b[1;33m\u001b[0m\u001b[0m\n\u001b[1;32m----> 3\u001b[1;33m \u001b[1;32mimport\u001b[0m \u001b[0mfreetype\u001b[0m\u001b[1;33m\u001b[0m\u001b[1;33m\u001b[0m\u001b[0m\n\u001b[0m\u001b[0;32m      4\u001b[0m \u001b[1;32mfrom\u001b[0m \u001b[0mmatplotlib\u001b[0m \u001b[1;32mimport\u001b[0m \u001b[0mpyplot\u001b[0m \u001b[1;32mas\u001b[0m \u001b[0mplt\u001b[0m\u001b[1;33m\u001b[0m\u001b[1;33m\u001b[0m\u001b[0m\n\u001b[0;32m      5\u001b[0m \u001b[1;33m\u001b[0m\u001b[0m\n",
      "\u001b[1;32mC:\\dev\\Snippets\\freetype.py\u001b[0m in \u001b[0;36m<module>\u001b[1;34m\u001b[0m\n\u001b[0;32m      1\u001b[0m \u001b[1;32mimport\u001b[0m \u001b[0mfreetype\u001b[0m\u001b[1;33m\u001b[0m\u001b[1;33m\u001b[0m\u001b[0m\n\u001b[0;32m      2\u001b[0m \u001b[1;33m\u001b[0m\u001b[0m\n\u001b[1;32m----> 3\u001b[1;33m \u001b[0mface\u001b[0m \u001b[1;33m=\u001b[0m \u001b[0mfreetype\u001b[0m\u001b[1;33m.\u001b[0m\u001b[0mFace\u001b[0m\u001b[1;33m(\u001b[0m\u001b[1;34m\"C:\\Windows\\Fonts\\Arial.ttf\"\u001b[0m\u001b[1;33m)\u001b[0m\u001b[1;33m\u001b[0m\u001b[1;33m\u001b[0m\u001b[0m\n\u001b[0m\u001b[0;32m      4\u001b[0m \u001b[0mface\u001b[0m\u001b[1;33m.\u001b[0m\u001b[0mset_char_size\u001b[0m\u001b[1;33m(\u001b[0m\u001b[1;36m48\u001b[0m\u001b[1;33m*\u001b[0m\u001b[1;36m64\u001b[0m\u001b[1;33m)\u001b[0m\u001b[1;33m\u001b[0m\u001b[1;33m\u001b[0m\u001b[0m\n\u001b[0;32m      5\u001b[0m \u001b[0mface\u001b[0m\u001b[1;33m.\u001b[0m\u001b[0mload_char\u001b[0m\u001b[1;33m(\u001b[0m\u001b[1;34m'S'\u001b[0m\u001b[1;33m)\u001b[0m\u001b[1;33m\u001b[0m\u001b[1;33m\u001b[0m\u001b[0m\n",
      "\u001b[1;31mAttributeError\u001b[0m: module 'freetype' has no attribute 'Face'"
     ]
    }
   ],
   "source": [
    "import cv2\n",
    "import numpy as np\n",
    "import freetype\n",
    "from matplotlib import pyplot as plt\n",
    "\n",
    "\n"
   ]
  }
 ],
 "metadata": {
  "kernelspec": {
   "display_name": "Python 3",
   "language": "python",
   "name": "python3"
  },
  "language_info": {
   "codemirror_mode": {
    "name": "ipython",
    "version": 3
   },
   "file_extension": ".py",
   "mimetype": "text/x-python",
   "name": "python",
   "nbconvert_exporter": "python",
   "pygments_lexer": "ipython3",
   "version": "3.7.6"
  }
 },
 "nbformat": 4,
 "nbformat_minor": 4
}
